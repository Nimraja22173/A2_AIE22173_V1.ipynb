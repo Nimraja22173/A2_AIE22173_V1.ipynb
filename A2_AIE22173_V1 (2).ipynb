{
  "nbformat": 4,
  "nbformat_minor": 0,
  "metadata": {
    "colab": {
      "provenance": []
    },
    "kernelspec": {
      "name": "python3",
      "display_name": "Python 3"
    },
    "language_info": {
      "name": "python"
    }
  },
  "cells": [
    {
      "cell_type": "code",
      "execution_count": 3,
      "metadata": {
        "colab": {
          "base_uri": "https://localhost:8080/"
        },
        "id": "0Wdw5fbubI1-",
        "outputId": "aa485dec-34fe-4b79-c42e-40950f62dd12"
      },
      "outputs": [
        {
          "output_type": "stream",
          "name": "stdout",
          "text": [
            "enter the first vector: 1 2 3\n",
            "enter the first vector: 2 3 4\n",
            "euclidean distance: 1.7320508075688772\n",
            "Manhattan distance: 3\n"
          ]
        }
      ],
      "source": [
        "import math\n",
        "def euc_distance(vec1,vec2):\n",
        "    distance=0\n",
        "    for i in range(len(vec1)):\n",
        "        distance += (vec1[i] - vec2[i]) ** 2\n",
        "    return math.sqrt(distance)\n",
        "\n",
        "def manhattan_distance(vec1,vec2):\n",
        "    distance=0\n",
        "    for i in range(len(vec1)):\n",
        "        distance +=abs(vec1[i] - vec2[i])\n",
        "    return distance\n",
        "\n",
        "def main():\n",
        "    vec1=input(\"enter the first vector: \").split()\n",
        "    vec1=[int(x) for x in vec1]\n",
        "\n",
        "    vec2=input(\"enter the first vector: \").split()\n",
        "    vec2=[int(x) for x in vec2]\n",
        "\n",
        "    euclidean=euc_distance(vec1,vec2)\n",
        "    manhattan=manhattan_distance(vec1,vec2)\n",
        "\n",
        "    print(\"euclidean distance:\",euclidean)\n",
        "    print(\"Manhattan distance:\",manhattan)\n",
        "\n",
        "if __name__==\"__main__\":\n",
        "    main()"
      ]
    },
    {
      "cell_type": "code",
      "source": [
        "from collections import Counter\n",
        "\n",
        "def euclidean_distance(vector1, vector2):\n",
        "    return sum((v1 - v2) ** 2 for v1, v2 in zip(vector1, vector2)) ** 0.5\n",
        "\n",
        "def k_nearest_neighbors(training_data, test_instance, k=3):\n",
        "    distances = [(euclidean_distance(test_instance, training_instance[0]), training_instance[1]) for training_instance in training_data]\n",
        "    sorted_distances = sorted(distances, key=lambda x: x[0])\n",
        "    k_nearest_labels = [label for _, label in sorted_distances[:k]]\n",
        "    most_common_label = Counter(k_nearest_labels).most_common(1)[0][0]\n",
        "    return most_common_label\n",
        "\n",
        "def main():\n",
        "    # User input for training data\n",
        "    training_data = []\n",
        "    num_train_instances = int(input(\"Enter the number of training instances: \"))\n",
        "\n",
        "    for _ in range(num_train_instances):\n",
        "        features = [float(x) for x in input(\"Enter features (comma-separated values): \").split(',')]\n",
        "        label = input(\"Enter the label for this instance: \")\n",
        "        training_data.append((features, label))\n",
        "\n",
        "    # User input for test instance\n",
        "    test_instance = [float(x) for x in input(\"Enter test instance features (comma-separated values): \").split(',')]\n",
        "\n",
        "    # User input for k\n",
        "    k_value = int(input(\"Enter the value of k:\"))\n",
        "\n",
        "    # Perform k-NN classification\n",
        "    predicted_label = k_nearest_neighbors(training_data, test_instance, k=k_value)\n",
        "\n",
        "    # Print the result\n",
        "    print(f\"The predicted label for the test instance is: {predicted_label}\")\n",
        "\n",
        "if __name__ == \"__main__\":\n",
        "    main()"
      ],
      "metadata": {
        "colab": {
          "base_uri": "https://localhost:8080/"
        },
        "id": "TD1vC5x7dvw3",
        "outputId": "920de6a3-cba8-4e49-90f6-102c9daa026f"
      },
      "execution_count": 5,
      "outputs": [
        {
          "output_type": "stream",
          "name": "stdout",
          "text": [
            "Enter the number of training instances: 3\n",
            "Enter features (comma-separated values): 1,2,3\n",
            "Enter the label for this instance: A\n",
            "Enter features (comma-separated values): 2,5,7\n",
            "Enter the label for this instance: B\n",
            "Enter features (comma-separated values): 3,4,7\n",
            "Enter the label for this instance: C\n",
            "Enter test instance features (comma-separated values): 34,67,98\n",
            "Enter the value of k:3\n",
            "The predicted label for the test instance is: B\n"
          ]
        }
      ]
    },
    {
      "cell_type": "code",
      "source": [
        "def get_unique_labels(data):\n",
        "    return list(set(data))\n",
        "\n",
        "\n",
        "def label_encoding(data, labels):\n",
        "    label_mapping = {label: index for index, label in enumerate(labels)}\n",
        "    encoded_data = [label_mapping[value] for value in data]\n",
        "    return encoded_data\n",
        "\n",
        "\n",
        "def categorical_to_numeric(data):\n",
        "    unique_labels = get_unique_labels(data)\n",
        "    numeric_data = label_encoding(data, unique_labels)\n",
        "    return numeric_data\n",
        "\n",
        "\n",
        "def main():\n",
        "    # User input for categorical data\n",
        "    categorical_data = input(\"Enter categorical data (comma-separated values): \").split(',')\n",
        "\n",
        "    # Convert categorical variables to numeric using label encoding\n",
        "    numeric_data = categorical_to_numeric(categorical_data)\n",
        "\n",
        "    # Print the result\n",
        "    print(f\"Original Categorical Data: {categorical_data}\")\n",
        "    print(f\"Numeric Data: {numeric_data}\")\n",
        "\n",
        "\n",
        "if __name__ == \"__main__\":\n",
        "    main()"
      ],
      "metadata": {
        "colab": {
          "base_uri": "https://localhost:8080/"
        },
        "id": "yOSNqhYXegH-",
        "outputId": "c2c88467-70d0-4628-8365-4bc0da83a6a0"
      },
      "execution_count": 6,
      "outputs": [
        {
          "output_type": "stream",
          "name": "stdout",
          "text": [
            "Enter categorical data (comma-separated values): red,blue,green,red,blue,orange,green,orange\n",
            "Original Categorical Data: ['red', 'blue', 'green', 'red', 'blue', 'orange', 'green', 'orange']\n",
            "Numeric Data: [2, 1, 0, 2, 1, 3, 0, 3]\n"
          ]
        }
      ]
    },
    {
      "cell_type": "code",
      "source": [
        "def get_unique_labels(data):\n",
        "    return list(set(data))\n",
        "\n",
        "\n",
        "def one_hot_encoding(data, unique_labels):\n",
        "    one_hot_matrix = [[1 if value == label else 0 for label in unique_labels] for value in data]\n",
        "    return one_hot_matrix\n",
        "\n",
        "\n",
        "def categorical_to_numeric_one_hot(data):\n",
        "    unique_labels = get_unique_labels(data)\n",
        "    one_hot_matrix = one_hot_encoding(data, unique_labels)\n",
        "    return one_hot_matrix\n",
        "\n",
        "\n",
        "def main():\n",
        "    # User input for categorical data\n",
        "    categorical_data = input(\"Enter categorical data (comma-separated values): \").split(',')\n",
        "\n",
        "    # Convert categorical variables to one-hot encoding\n",
        "    one_hot_matrix = categorical_to_numeric_one_hot(categorical_data)\n",
        "\n",
        "    # Print the result\n",
        "    print(f\"Original Categorical Data: {categorical_data}\")\n",
        "    print(f\"One-Hot Encoded Matrix: {one_hot_matrix}\")\n",
        "\n",
        "\n",
        "if __name__ == \"__main__\":\n",
        "    main()"
      ],
      "metadata": {
        "colab": {
          "base_uri": "https://localhost:8080/"
        },
        "id": "7_7w5C4SerzD",
        "outputId": "6e136338-bc1f-4bd8-d1b6-0dfecb3ca4c5"
      },
      "execution_count": 7,
      "outputs": [
        {
          "output_type": "stream",
          "name": "stdout",
          "text": [
            "Enter categorical data (comma-separated values): red,green,blue\n",
            "Original Categorical Data: ['red', 'green', 'blue']\n",
            "One-Hot Encoded Matrix: [[0, 0, 1], [1, 0, 0], [0, 1, 0]]\n"
          ]
        }
      ]
    }
  ]
}